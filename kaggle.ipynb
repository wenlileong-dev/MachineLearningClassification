{
 "cells": [
  {
   "cell_type": "code",
   "execution_count": 23,
   "id": "narrative-temperature",
   "metadata": {},
   "outputs": [],
   "source": [
    "import pandas as pd\n",
    "import numpy as np\n",
    "from sklearn.feature_extraction.text import TfidfVectorizer\n",
    "from sklearn.svm import LinearSVC\n",
    "from sklearn.naive_bayes import MultinomialNB\n",
    "from sklearn.neighbors import KNeighborsClassifier\n",
    "from sklearn.pipeline import Pipeline\n",
    "from sklearn.feature_selection import SelectKBest, chi2\n",
    "from sklearn.model_selection import cross_val_predict\n",
    "from sklearn.model_selection import cross_val_score"
   ]
  },
  {
   "cell_type": "code",
   "execution_count": 24,
   "id": "alpine-halifax",
   "metadata": {},
   "outputs": [
    {
     "data": {
      "text/html": [
       "<div>\n",
       "<style scoped>\n",
       "    .dataframe tbody tr th:only-of-type {\n",
       "        vertical-align: middle;\n",
       "    }\n",
       "\n",
       "    .dataframe tbody tr th {\n",
       "        vertical-align: top;\n",
       "    }\n",
       "\n",
       "    .dataframe thead th {\n",
       "        text-align: right;\n",
       "    }\n",
       "</style>\n",
       "<table border=\"1\" class=\"dataframe\">\n",
       "  <thead>\n",
       "    <tr style=\"text-align: right;\">\n",
       "      <th></th>\n",
       "      <th>name</th>\n",
       "      <th>n_steps</th>\n",
       "      <th>n_ingredients</th>\n",
       "      <th>steps</th>\n",
       "      <th>ingredients</th>\n",
       "      <th>duration_label</th>\n",
       "    </tr>\n",
       "  </thead>\n",
       "  <tbody>\n",
       "    <tr>\n",
       "      <th>0</th>\n",
       "      <td>wi gal s chicken rice stove top dish made heal...</td>\n",
       "      <td>6</td>\n",
       "      <td>12</td>\n",
       "      <td>['in saucepan , melt margarine and combine wit...</td>\n",
       "      <td>['margarine', 'olive oil', 'celery', 'onion', ...</td>\n",
       "      <td>2.0</td>\n",
       "    </tr>\n",
       "    <tr>\n",
       "      <th>1</th>\n",
       "      <td>irish pin oats</td>\n",
       "      <td>9</td>\n",
       "      <td>5</td>\n",
       "      <td>['melt 1 tbs butter in a small saucepan over m...</td>\n",
       "      <td>['butter', 'pinhead oats', 'water', 'half-and-...</td>\n",
       "      <td>2.0</td>\n",
       "    </tr>\n",
       "    <tr>\n",
       "      <th>2</th>\n",
       "      <td>cheesy beef   n biscuit casserole</td>\n",
       "      <td>15</td>\n",
       "      <td>10</td>\n",
       "      <td>['brown ground beef , onion and green pepper',...</td>\n",
       "      <td>['ground beef', 'onion', 'green pepper', 'toma...</td>\n",
       "      <td>2.0</td>\n",
       "    </tr>\n",
       "    <tr>\n",
       "      <th>3</th>\n",
       "      <td>lemonade chicken  oamc</td>\n",
       "      <td>10</td>\n",
       "      <td>8</td>\n",
       "      <td>['brown chicken in oil', 'combine all ingredie...</td>\n",
       "      <td>['boneless skinless chicken', 'frozen lemonade...</td>\n",
       "      <td>2.0</td>\n",
       "    </tr>\n",
       "    <tr>\n",
       "      <th>4</th>\n",
       "      <td>graham and peanut butter bon bons</td>\n",
       "      <td>6</td>\n",
       "      <td>5</td>\n",
       "      <td>['set almond bark aside', 'mix remaining ingre...</td>\n",
       "      <td>['graham cracker crumbs', 'crunchy peanut butt...</td>\n",
       "      <td>2.0</td>\n",
       "    </tr>\n",
       "  </tbody>\n",
       "</table>\n",
       "</div>"
      ],
      "text/plain": [
       "                                                name  n_steps  n_ingredients  \\\n",
       "0  wi gal s chicken rice stove top dish made heal...        6             12   \n",
       "1                                     irish pin oats        9              5   \n",
       "2                  cheesy beef   n biscuit casserole       15             10   \n",
       "3                             lemonade chicken  oamc       10              8   \n",
       "4                  graham and peanut butter bon bons        6              5   \n",
       "\n",
       "                                               steps  \\\n",
       "0  ['in saucepan , melt margarine and combine wit...   \n",
       "1  ['melt 1 tbs butter in a small saucepan over m...   \n",
       "2  ['brown ground beef , onion and green pepper',...   \n",
       "3  ['brown chicken in oil', 'combine all ingredie...   \n",
       "4  ['set almond bark aside', 'mix remaining ingre...   \n",
       "\n",
       "                                         ingredients  duration_label  \n",
       "0  ['margarine', 'olive oil', 'celery', 'onion', ...             2.0  \n",
       "1  ['butter', 'pinhead oats', 'water', 'half-and-...             2.0  \n",
       "2  ['ground beef', 'onion', 'green pepper', 'toma...             2.0  \n",
       "3  ['boneless skinless chicken', 'frozen lemonade...             2.0  \n",
       "4  ['graham cracker crumbs', 'crunchy peanut butt...             2.0  "
      ]
     },
     "execution_count": 24,
     "metadata": {},
     "output_type": "execute_result"
    }
   ],
   "source": [
    "#import dataset\n",
    "data = pd.read_csv(\"COMP30027_2021_Project2_datasets/recipe_train.csv\")\n",
    "testData = pd.read_csv(\"COMP30027_2021_Project2_datasets/recipe_test.csv\")\n",
    "data.head()"
   ]
  },
  {
   "cell_type": "code",
   "execution_count": 25,
   "id": "regulated-liechtenstein",
   "metadata": {},
   "outputs": [],
   "source": [
    "#Data Preprocessing - \"[aa, bb]\" -> \"aa, bb\"\n",
    "data['steps'] = data['steps'].apply(eval).apply(' '.join)\n",
    "data['ingredients'] = data['ingredients'].apply(eval).apply(' '.join)\n",
    "testData['steps'] = testData['steps'].apply(eval).apply(' '.join)\n",
    "testData['ingredients'] = testData['ingredients'].apply(eval).apply(' '.join)"
   ]
  },
  {
   "cell_type": "code",
   "execution_count": 26,
   "id": "little-entrepreneur",
   "metadata": {},
   "outputs": [],
   "source": [
    "#TfidfVectorizer - steps\n",
    "vectorizer = TfidfVectorizer(stop_words=\"english\").fit(data['steps'])\n",
    "steps_vocab_tf = np.array(vectorizer.get_feature_names())\n",
    "train_steps_tfidf = vectorizer.transform(data['steps'])\n",
    "test_steps_tfidf = vectorizer.transform(testData['steps'])"
   ]
  },
  {
   "cell_type": "code",
   "execution_count": 27,
   "id": "social-cemetery",
   "metadata": {},
   "outputs": [],
   "source": [
    "y_train = data['duration_label']\n",
    "def write_to_csv(predicted, file):\n",
    "    print(\"write to csv...\")\n",
    "    df = pd.DataFrame({'id': np.arange(1, 10001),\n",
    "                   'duration_label': predicted})\n",
    "    df.to_csv(file, index=False)"
   ]
  },
  {
   "cell_type": "code",
   "execution_count": 28,
   "id": "satellite-passion",
   "metadata": {},
   "outputs": [
    {
     "name": "stdout",
     "output_type": "stream",
     "text": [
      "0.784775\n"
     ]
    }
   ],
   "source": [
    "#Linear SVC\n",
    "svc = Pipeline([('kBest', SelectKBest(chi2, k=3500)), ('svc', LinearSVC())])\n",
    "svc.fit(train_steps_tfidf, y_train)\n",
    "scores_svc = cross_val_score(svc, train_steps_tfidf, y_train, cv=10)\n",
    "predictedSVC = svc.predict(test_steps_tfidf)\n",
    "print(np.mean(scores_svc))"
   ]
  },
  {
   "cell_type": "code",
   "execution_count": 29,
   "id": "interior-cement",
   "metadata": {},
   "outputs": [
    {
     "name": "stdout",
     "output_type": "stream",
     "text": [
      "write to csv...\n"
     ]
    }
   ],
   "source": [
    "write_to_csv(predictedSVC, 'svc.csv')"
   ]
  },
  {
   "cell_type": "code",
   "execution_count": 30,
   "id": "union-specialist",
   "metadata": {},
   "outputs": [
    {
     "name": "stdout",
     "output_type": "stream",
     "text": [
      "0.699775\n"
     ]
    }
   ],
   "source": [
    "#MNB\n",
    "mnb = MultinomialNB()\n",
    "mnb.fit(train_steps_tfidf, y_train)\n",
    "scores_mnb = cross_val_score(mnb, train_steps_tfidf, y_train, cv=10)\n",
    "predictedMNB = mnb.predict(test_steps_tfidf)\n",
    "print(np.mean(scores_mnb))"
   ]
  },
  {
   "cell_type": "code",
   "execution_count": 31,
   "id": "detected-murray",
   "metadata": {},
   "outputs": [
    {
     "name": "stdout",
     "output_type": "stream",
     "text": [
      "write to csv...\n"
     ]
    }
   ],
   "source": [
    "write_to_csv(predictedMNB, 'mnb.csv')"
   ]
  },
  {
   "cell_type": "code",
   "execution_count": 34,
   "id": "monthly-patch",
   "metadata": {},
   "outputs": [
    {
     "name": "stdout",
     "output_type": "stream",
     "text": [
      "0.735125\n"
     ]
    }
   ],
   "source": [
    "#KNN\n",
    "neigh = KNeighborsClassifier(n_neighbors=40)\n",
    "neigh.fit(train_steps_tfidf, y_train)\n",
    "scores_knn = cross_val_score(neigh, train_steps_tfidf, y_train, cv=10)\n",
    "predictedKNN = neigh.predict(test_steps_tfidf)\n",
    "print(np.mean(scores_knn))"
   ]
  },
  {
   "cell_type": "code",
   "execution_count": 35,
   "id": "concerned-threat",
   "metadata": {},
   "outputs": [
    {
     "name": "stdout",
     "output_type": "stream",
     "text": [
      "write to csv...\n"
     ]
    }
   ],
   "source": [
    "write_to_csv(predicted, 'knn.csv')"
   ]
  },
  {
   "cell_type": "code",
   "execution_count": null,
   "id": "split-think",
   "metadata": {},
   "outputs": [],
   "source": []
  }
 ],
 "metadata": {
  "kernelspec": {
   "display_name": "Python 3",
   "language": "python",
   "name": "python3"
  },
  "language_info": {
   "codemirror_mode": {
    "name": "ipython",
    "version": 3
   },
   "file_extension": ".py",
   "mimetype": "text/x-python",
   "name": "python",
   "nbconvert_exporter": "python",
   "pygments_lexer": "ipython3",
   "version": "3.9.1"
  }
 },
 "nbformat": 4,
 "nbformat_minor": 5
}
