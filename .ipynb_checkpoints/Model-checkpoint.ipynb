{
 "cells": [
  {
   "cell_type": "code",
   "execution_count": 1,
   "id": "complimentary-production",
   "metadata": {},
   "outputs": [],
   "source": [
    "import pandas as pd\n",
    "import numpy as np\n",
    "import matplotlib.pyplot as plt\n",
    "import seaborn as sns\n",
    "from sklearn.feature_extraction.text import CountVectorizer\n",
    "from sklearn.feature_extraction.text import TfidfVectorizer\n",
    "from sklearn.naive_bayes import MultinomialNB, GaussianNB\n",
    "from sklearn.svm import LinearSVC\n",
    "from sklearn.neighbors import KNeighborsClassifier\n",
    "from sklearn.neural_network import MLPClassifier\n",
    "from sklearn.linear_model import LogisticRegression\n",
    "from sklearn.pipeline import Pipeline\n",
    "from sklearn.ensemble import VotingClassifier\n",
    "from sklearn.feature_selection import SelectKBest, chi2\n",
    "from sklearn.model_selection import cross_val_predict\n",
    "from sklearn.model_selection import cross_val_score\n",
    "from sklearn.ensemble import IsolationForest\n",
    "from sklearn.metrics import confusion_matrix"
   ]
  },
  {
   "cell_type": "code",
   "execution_count": 2,
   "id": "sought-facility",
   "metadata": {},
   "outputs": [
    {
     "data": {
      "text/html": [
       "<div>\n",
       "<style scoped>\n",
       "    .dataframe tbody tr th:only-of-type {\n",
       "        vertical-align: middle;\n",
       "    }\n",
       "\n",
       "    .dataframe tbody tr th {\n",
       "        vertical-align: top;\n",
       "    }\n",
       "\n",
       "    .dataframe thead th {\n",
       "        text-align: right;\n",
       "    }\n",
       "</style>\n",
       "<table border=\"1\" class=\"dataframe\">\n",
       "  <thead>\n",
       "    <tr style=\"text-align: right;\">\n",
       "      <th></th>\n",
       "      <th>name</th>\n",
       "      <th>n_steps</th>\n",
       "      <th>n_ingredients</th>\n",
       "      <th>steps</th>\n",
       "      <th>ingredients</th>\n",
       "      <th>duration_label</th>\n",
       "    </tr>\n",
       "  </thead>\n",
       "  <tbody>\n",
       "    <tr>\n",
       "      <th>0</th>\n",
       "      <td>wi gal s chicken rice stove top dish made heal...</td>\n",
       "      <td>6</td>\n",
       "      <td>12</td>\n",
       "      <td>['in saucepan , melt margarine and combine wit...</td>\n",
       "      <td>['margarine', 'olive oil', 'celery', 'onion', ...</td>\n",
       "      <td>2.0</td>\n",
       "    </tr>\n",
       "    <tr>\n",
       "      <th>1</th>\n",
       "      <td>irish pin oats</td>\n",
       "      <td>9</td>\n",
       "      <td>5</td>\n",
       "      <td>['melt 1 tbs butter in a small saucepan over m...</td>\n",
       "      <td>['butter', 'pinhead oats', 'water', 'half-and-...</td>\n",
       "      <td>2.0</td>\n",
       "    </tr>\n",
       "    <tr>\n",
       "      <th>2</th>\n",
       "      <td>cheesy beef   n biscuit casserole</td>\n",
       "      <td>15</td>\n",
       "      <td>10</td>\n",
       "      <td>['brown ground beef , onion and green pepper',...</td>\n",
       "      <td>['ground beef', 'onion', 'green pepper', 'toma...</td>\n",
       "      <td>2.0</td>\n",
       "    </tr>\n",
       "    <tr>\n",
       "      <th>3</th>\n",
       "      <td>lemonade chicken  oamc</td>\n",
       "      <td>10</td>\n",
       "      <td>8</td>\n",
       "      <td>['brown chicken in oil', 'combine all ingredie...</td>\n",
       "      <td>['boneless skinless chicken', 'frozen lemonade...</td>\n",
       "      <td>2.0</td>\n",
       "    </tr>\n",
       "    <tr>\n",
       "      <th>4</th>\n",
       "      <td>graham and peanut butter bon bons</td>\n",
       "      <td>6</td>\n",
       "      <td>5</td>\n",
       "      <td>['set almond bark aside', 'mix remaining ingre...</td>\n",
       "      <td>['graham cracker crumbs', 'crunchy peanut butt...</td>\n",
       "      <td>2.0</td>\n",
       "    </tr>\n",
       "  </tbody>\n",
       "</table>\n",
       "</div>"
      ],
      "text/plain": [
       "                                                name  n_steps  n_ingredients  \\\n",
       "0  wi gal s chicken rice stove top dish made heal...        6             12   \n",
       "1                                     irish pin oats        9              5   \n",
       "2                  cheesy beef   n biscuit casserole       15             10   \n",
       "3                             lemonade chicken  oamc       10              8   \n",
       "4                  graham and peanut butter bon bons        6              5   \n",
       "\n",
       "                                               steps  \\\n",
       "0  ['in saucepan , melt margarine and combine wit...   \n",
       "1  ['melt 1 tbs butter in a small saucepan over m...   \n",
       "2  ['brown ground beef , onion and green pepper',...   \n",
       "3  ['brown chicken in oil', 'combine all ingredie...   \n",
       "4  ['set almond bark aside', 'mix remaining ingre...   \n",
       "\n",
       "                                         ingredients  duration_label  \n",
       "0  ['margarine', 'olive oil', 'celery', 'onion', ...             2.0  \n",
       "1  ['butter', 'pinhead oats', 'water', 'half-and-...             2.0  \n",
       "2  ['ground beef', 'onion', 'green pepper', 'toma...             2.0  \n",
       "3  ['boneless skinless chicken', 'frozen lemonade...             2.0  \n",
       "4  ['graham cracker crumbs', 'crunchy peanut butt...             2.0  "
      ]
     },
     "execution_count": 2,
     "metadata": {},
     "output_type": "execute_result"
    }
   ],
   "source": [
    "#import dataset\n",
    "data = pd.read_csv(\"COMP30027_2021_Project2_datasets/recipe_train.csv\")\n",
    "testData = pd.read_csv(\"COMP30027_2021_Project2_datasets/recipe_test.csv\")\n",
    "data.head()"
   ]
  },
  {
   "cell_type": "code",
   "execution_count": 3,
   "id": "honey-shoot",
   "metadata": {},
   "outputs": [
    {
     "data": {
      "text/plain": [
       "<BarContainer object of 3 artists>"
      ]
     },
     "execution_count": 3,
     "metadata": {},
     "output_type": "execute_result"
    },
    {
     "data": {
      "image/png": "[encoded data removed]",
      "text/plain": [
       "<Figure size 432x288 with 1 Axes>"
      ]
     },
     "metadata": {
      "needs_background": "light"
     },
     "output_type": "display_data"
    }
   ],
   "source": [
    "#visualise class label distribution\n",
    "count = list(data['duration_label'].value_counts())\n",
    "plt.bar([\"1\", \"2\", \"3\"], count)"
   ]
  },
  {
   "cell_type": "code",
   "execution_count": 4,
   "id": "illegal-childhood",
   "metadata": {},
   "outputs": [
    {
     "data": {
      "text/plain": [
       "<AxesSubplot:xlabel='duration_label', ylabel='n_ingredients'>"
      ]
     },
     "execution_count": 4,
     "metadata": {},
     "output_type": "execute_result"
    },
    {
     "data": {
      "image/png": "[encoded data removed]",
      "text/plain": [
       "<Figure size 432x288 with 1 Axes>"
      ]
     },
     "metadata": {
      "needs_background": "light"
     },
     "output_type": "display_data"
    }
   ],
   "source": [
    "#relationship between duration label and number of ingredients\n",
    "sns.boxplot(x='duration_label',y='n_ingredients',data=data)"
   ]
  },
  {
   "cell_type": "code",
   "execution_count": 5,
   "id": "unlikely-louisiana",
   "metadata": {},
   "outputs": [
    {
     "data": {
      "text/plain": [
       "<AxesSubplot:xlabel='duration_label', ylabel='n_steps'>"
      ]
     },
     "execution_count": 5,
     "metadata": {},
     "output_type": "execute_result"
    },
    {
     "data": {
      "image/png": "[encoded data removed]",
      "text/plain": [
       "<Figure size 432x288 with 1 Axes>"
      ]
     },
     "metadata": {
      "needs_background": "light"
     },
     "output_type": "display_data"
    }
   ],
   "source": [
    "#relationship between duration label and number of steps\n",
    "sns.boxplot(x='duration_label',y='n_steps',data=data)"
   ]
  },
  {
   "cell_type": "code",
   "execution_count": 6,
   "id": "color-amazon",
   "metadata": {},
   "outputs": [],
   "source": [
    "#Data Preprocessing - \"[aa, bb]\" -> \"aa, bb\"\n",
    "data['steps'] = data['steps'].apply(eval).apply(' '.join)\n",
    "data['ingredients'] = data['ingredients'].apply(eval).apply(' '.join)\n",
    "testData['steps'] = testData['steps'].apply(eval).apply(' '.join)\n",
    "testData['ingredients'] = testData['ingredients'].apply(eval).apply(' '.join)"
   ]
  },
  {
   "cell_type": "code",
   "execution_count": 7,
   "id": "interested-weather",
   "metadata": {},
   "outputs": [
    {
     "data": {
      "text/plain": [
       "<40000x17967 sparse matrix of type '<class 'numpy.int64'>'\n",
       "\twith 1737821 stored elements in Compressed Sparse Row format>"
      ]
     },
     "execution_count": 7,
     "metadata": {},
     "output_type": "execute_result"
    }
   ],
   "source": [
    "#countVectorizer - steps\n",
    "vectorizer = CountVectorizer(stop_words=\"english\").fit(data['steps'])\n",
    "steps_vocab_cv = np.array(vectorizer.get_feature_names())\n",
    "train_steps_cv = vectorizer.transform(data['steps'])\n",
    "\n",
    "# cvectorizer = CountVectorizer(stop_words=\"english\")\n",
    "# train_steps_cv = cvectorizer.fit_transform(data['steps'])\n",
    "# test_steps_cv = cvectorizer.fit_transform(testData['steps'])\n",
    "train_steps_cv"
   ]
  },
  {
   "cell_type": "code",
   "execution_count": 8,
   "id": "medical-controversy",
   "metadata": {},
   "outputs": [
    {
     "data": {
      "text/plain": [
       "<40000x17967 sparse matrix of type '<class 'numpy.float64'>'\n",
       "\twith 1737821 stored elements in Compressed Sparse Row format>"
      ]
     },
     "execution_count": 8,
     "metadata": {},
     "output_type": "execute_result"
    }
   ],
   "source": [
    "#TfidfVectorizer - steps\n",
    "vectorizer = TfidfVectorizer(stop_words=\"english\").fit(data['steps'])\n",
    "steps_vocab_tf = np.array(vectorizer.get_feature_names())\n",
    "train_steps_tfidf = vectorizer.transform(data['steps'])\n",
    "test_steps_tfidf = vectorizer.transform(testData['steps'])\n",
    "\n",
    "# tvectorizer = TfidfVectorizer(stop_words=\"english\")\n",
    "# train_steps_tfidf = tvectorizer.fit_transform(data['steps'])\n",
    "\n",
    "train_steps_tfidf"
   ]
  },
  {
   "cell_type": "code",
   "execution_count": 9,
   "id": "focal-orleans",
   "metadata": {},
   "outputs": [],
   "source": [
    "y_train = data['duration_label']"
   ]
  },
  {
   "cell_type": "code",
   "execution_count": 10,
   "id": "inside-bread",
   "metadata": {},
   "outputs": [],
   "source": [
    "def write_to_csv(predicted):\n",
    "    print(\"write to csv...\")\n",
    "    df = pd.DataFrame({'id': np.arange(1, 10001),\n",
    "                   'duration_label': predicted})\n",
    "    df.to_csv(r'result.csv')"
   ]
  },
  {
   "cell_type": "code",
   "execution_count": 11,
   "id": "seeing-shakespeare",
   "metadata": {},
   "outputs": [
    {
     "name": "stdout",
     "output_type": "stream",
     "text": [
      "[0.7105 0.721  0.7275 0.731  0.7185 0.726  0.7385 0.7195 0.7165 0.7275\n",
      " 0.7335 0.751  0.73   0.7165 0.744  0.7065 0.7045 0.7315 0.725  0.7305]\n"
     ]
    }
   ],
   "source": [
    "#Multinomial Naive Bayes - countVectorizer\n",
    "mnb = MultinomialNB()\n",
    "mnb.fit(train_steps_cv, y_train)\n",
    "scores_cv = cross_val_score(mnb, train_steps_cv, y_train, cv=20)\n",
    "print(scores_cv)"
   ]
  },
  {
   "cell_type": "code",
   "execution_count": 12,
   "id": "respective-maintenance",
   "metadata": {},
   "outputs": [
    {
     "name": "stdout",
     "output_type": "stream",
     "text": [
      "[0.6915 0.693  0.7095 0.709  0.6865 0.7015 0.707  0.692  0.6805 0.69\n",
      " 0.6945 0.732  0.7005 0.697  0.719  0.69   0.6885 0.708  0.701  0.714 ]\n"
     ]
    }
   ],
   "source": [
    "#Multinomial Naive Bayes - tfidfVectorizer\n",
    "mnb.fit(train_steps_cv, y_train)\n",
    "scores_tf = cross_val_score(mnb, train_steps_tfidf, y_train, cv=20)\n",
    "print(scores_tf)"
   ]
  },
  {
   "cell_type": "code",
   "execution_count": 13,
   "id": "boolean-storm",
   "metadata": {},
   "outputs": [
    {
     "data": {
      "image/png": "[encoded data removed]",
      "text/plain": [
       "<Figure size 432x288 with 1 Axes>"
      ]
     },
     "metadata": {
      "needs_background": "light"
     },
     "output_type": "display_data"
    }
   ],
   "source": [
    "plt.plot(np.arange(1,21), scores_cv, '-g',label='countVectorizer');\n",
    "plt.plot(np.arange(1, 21), scores_tf,'-b', label='tfidfVectorizer')\n",
    "plt.ylim(0.6, 0.8);\n",
    "plt.title(\"Multinomial Naive Bayes - countVectorizer vs tfidfVectorizer\")\n",
    "plt.xlabel(\"test instances\")\n",
    "plt.ylabel(\"accuracy\");\n",
    "plt.legend();"
   ]
  },
  {
   "cell_type": "code",
   "execution_count": 14,
   "id": "polish-matthew",
   "metadata": {},
   "outputs": [],
   "source": [
    "mnb2 = Pipeline([('kBest', SelectKBest(chi2, k=3500)), ('mnb', MultinomialNB())])\n",
    "mnb2.fit(train_steps_tfidf, y_train)\n",
    "scores_tf2 = cross_val_score(mnb2, train_steps_tfidf, y_train, cv=20)\n",
    "# print(np.mean(scores_tf))"
   ]
  },
  {
   "cell_type": "code",
   "execution_count": 39,
   "id": "finite-accordance",
   "metadata": {},
   "outputs": [
    {
     "data": {
      "image/png": "[encoded data removed]",
      "text/plain": [
       "<Figure size 432x288 with 1 Axes>"
      ]
     },
     "metadata": {
      "needs_background": "light"
     },
     "output_type": "display_data"
    }
   ],
   "source": [
    "plt.plot(np.arange(1,21), scores_tf2, '-g',label='tfidfSelectKBest');\n",
    "plt.plot(np.arange(1, 21), scores_tf,'-b', label='tfidf')\n",
    "plt.ylim(0.6, 0.8);\n",
    "plt.title(\"Multinomial Naive Bayes - selectKBest\")\n",
    "plt.xlabel(\"test instances\")\n",
    "plt.ylabel(\"accuracy\");\n",
    "plt.legend();"
   ]
  },
  {
   "cell_type": "code",
   "execution_count": 16,
   "id": "announced-broadcast",
   "metadata": {},
   "outputs": [
    {
     "name": "stdout",
     "output_type": "stream",
     "text": [
      "['add' 'minutes' 'heat' 'stir' 'bowl' 'cook' 'mix' 'mixture' 'serve'\n",
      " 'place' 'oil' 'salt' 'medium' 'pan' 'combine' 'butter' 'ingredients'\n",
      " 'pepper' 'cheese' 'large']\n",
      "['minutes' 'add' 'heat' 'pan' 'mixture' 'oven' 'stir' 'bowl' 'bake' 'cook'\n",
      " 'mix' 'salt' 'place' 'butter' 'large' 'baking' 'sugar' 'chicken' 'medium'\n",
      " 'oil']\n",
      "['add' 'hours' 'cook' 'cover' 'place' 'minutes' 'heat' 'stir' 'low'\n",
      " 'water' 'bowl' 'pot' 'pour' 'mixture' 'mix' 'chicken' 'sauce' 'meat'\n",
      " 'remove' 'salt']\n"
     ]
    }
   ],
   "source": [
    "important_word = np.argsort(mnb.feature_log_prob_)[:,::-1][:,:20]\n",
    "for i in range(len(important_word)):\n",
    "    print(steps_vocab_cv[important_word[i]])"
   ]
  },
  {
   "cell_type": "code",
   "execution_count": 17,
   "id": "prompt-portsmouth",
   "metadata": {},
   "outputs": [
    {
     "data": {
      "text/plain": [
       "array(['crock', 'hours', 'cooker', 'slow', 'crockpot', 'roast', 'pot',\n",
       "       'low', 'bake', 'oven', '350', '30', 'brisket', 'setting', '45',\n",
       "       '40', 'dish', 'cake', 'baking', 'minutes', 'casserole', '35',\n",
       "       'meat', '25', 'potatoes', 'degrees', 'cover', 'ribs', 'pan',\n",
       "       'overnight'], dtype='<U30')"
      ]
     },
     "execution_count": 17,
     "metadata": {},
     "output_type": "execute_result"
    }
   ],
   "source": [
    "kBest_tfidf = SelectKBest(chi2, k=5000).fit(train_steps_tfidf, y_train)\n",
    "top30 = kBest_tfidf.scores_.argsort()[::-1][:30]\n",
    "steps_vocab_tf[top30]"
   ]
  },
  {
   "cell_type": "code",
   "execution_count": 18,
   "id": "quick-lover",
   "metadata": {},
   "outputs": [],
   "source": [
    "#knn\n",
    "neigh = KNeighborsClassifier(n_neighbors=400)\n",
    "neigh.fit(train_steps_tfidf, y_train)\n",
    "scores_knn = cross_val_score(neigh, train_steps_tfidf, y_train, cv=20)"
   ]
  },
  {
   "cell_type": "code",
   "execution_count": 19,
   "id": "postal-gathering",
   "metadata": {},
   "outputs": [
    {
     "data": {
      "image/png": "[encoded data removed]",
      "text/plain": [
       "<Figure size 432x288 with 1 Axes>"
      ]
     },
     "metadata": {
      "needs_background": "light"
     },
     "output_type": "display_data"
    }
   ],
   "source": [
    "plt.plot(np.arange(1,21), scores_tf, '-g',label='mnb');\n",
    "plt.plot(np.arange(1, 21), scores_knn,'-b', label='knn')\n",
    "plt.ylim(0.6, 0.8);\n",
    "plt.title(\"Multinomial Naive Bayes vs  k-nearest neighbors\")\n",
    "plt.xlabel(\"test instances\")\n",
    "plt.ylabel(\"accuracy\");\n",
    "plt.legend();"
   ]
  },
  {
   "cell_type": "code",
   "execution_count": 20,
   "id": "isolated-convention",
   "metadata": {},
   "outputs": [],
   "source": [
    "#Linear Support Vector Classification\n",
    "svc = Pipeline([('kBest', SelectKBest(chi2, k=3500)), ('svc', LinearSVC())])\n",
    "svc.fit(train_steps_tfidf, y_train)\n",
    "scores_svc = cross_val_score(svc, train_steps_tfidf, y_train, cv=20)\n",
    "predicted = svc.predict(test_steps_tfidf)\n",
    "# print(np.mean(scores))"
   ]
  },
  {
   "cell_type": "code",
   "execution_count": 21,
   "id": "minor-cooking",
   "metadata": {},
   "outputs": [
    {
     "data": {
      "image/png": "[encoded data removed]",
      "text/plain": [
       "<Figure size 432x288 with 1 Axes>"
      ]
     },
     "metadata": {
      "needs_background": "light"
     },
     "output_type": "display_data"
    }
   ],
   "source": [
    "plt.plot(np.arange(1,21), scores_knn, '-g',label='knn');\n",
    "plt.plot(np.arange(1, 21), scores_svc,'-b', label='svc')\n",
    "plt.ylim(0.6, 0.8);\n",
    "plt.title(\"k-nearest neighbors vs  Linear Support Vector\")\n",
    "plt.xlabel(\"test instances\")\n",
    "plt.ylabel(\"accuracy\");\n",
    "plt.legend();"
   ]
  },
  {
   "cell_type": "code",
   "execution_count": 22,
   "id": "prime-adult",
   "metadata": {},
   "outputs": [
    {
     "name": "stdout",
     "output_type": "stream",
     "text": [
      "write to csv...\n"
     ]
    }
   ],
   "source": [
    "write_to_csv(predicted)"
   ]
  },
  {
   "cell_type": "code",
   "execution_count": 27,
   "id": "manual-consent",
   "metadata": {},
   "outputs": [],
   "source": [
    "#confusion Matrix\n",
    "y_pred = cross_val_predict(svc, train_steps_tfidf, y_train, cv=10)\n",
    "conf_mat = confusion_matrix(y_train, y_pred)"
   ]
  },
  {
   "cell_type": "code",
   "execution_count": 28,
   "id": "published-trigger",
   "metadata": {},
   "outputs": [
    {
     "data": {
      "text/plain": [
       "array([[14170,  3431,   104],\n",
       "       [ 4056, 16058,   132],\n",
       "       [  388,   498,  1163]], dtype=int64)"
      ]
     },
     "execution_count": 28,
     "metadata": {},
     "output_type": "execute_result"
    }
   ],
   "source": [
    "conf_mat"
   ]
  },
  {
   "cell_type": "code",
   "execution_count": 38,
   "id": "liked-polls",
   "metadata": {},
   "outputs": [
    {
     "data": {
      "image/png": "[encoded data removed]",
      "text/plain": [
       "<Figure size 432x288 with 2 Axes>"
      ]
     },
     "metadata": {
      "needs_background": "light"
     },
     "output_type": "display_data"
    }
   ],
   "source": [
    "ax= plt.subplot()\n",
    "sns.heatmap(conf_mat/np.sum(conf_mat), annot=True, ax=ax,\n",
    "            fmt='.2%', cmap='Blues')\n",
    "ax.set_xlabel('Predicted labels');ax.set_ylabel('True labels'); \n",
    "ax.set_title('Confusion Matrix'); \n",
    "ax.xaxis.set_ticklabels(['1', '2','3']); ax.yaxis.set_ticklabels(['1', '2','3']);"
   ]
  },
  {
   "cell_type": "code",
   "execution_count": 41,
   "id": "sacred-yeast",
   "metadata": {},
   "outputs": [
    {
     "data": {
      "text/html": [
       "<div>\n",
       "<style scoped>\n",
       "    .dataframe tbody tr th:only-of-type {\n",
       "        vertical-align: middle;\n",
       "    }\n",
       "\n",
       "    .dataframe tbody tr th {\n",
       "        vertical-align: top;\n",
       "    }\n",
       "\n",
       "    .dataframe thead th {\n",
       "        text-align: right;\n",
       "    }\n",
       "</style>\n",
       "<table border=\"1\" class=\"dataframe\">\n",
       "  <thead>\n",
       "    <tr style=\"text-align: right;\">\n",
       "      <th></th>\n",
       "      <th>0</th>\n",
       "      <th>1</th>\n",
       "      <th>2</th>\n",
       "      <th>3</th>\n",
       "      <th>4</th>\n",
       "      <th>5</th>\n",
       "      <th>6</th>\n",
       "      <th>7</th>\n",
       "      <th>8</th>\n",
       "      <th>9</th>\n",
       "      <th>...</th>\n",
       "      <th>17957</th>\n",
       "      <th>17958</th>\n",
       "      <th>17959</th>\n",
       "      <th>17960</th>\n",
       "      <th>17961</th>\n",
       "      <th>17962</th>\n",
       "      <th>17963</th>\n",
       "      <th>17964</th>\n",
       "      <th>17965</th>\n",
       "      <th>17966</th>\n",
       "    </tr>\n",
       "  </thead>\n",
       "  <tbody>\n",
       "    <tr>\n",
       "      <th>0</th>\n",
       "      <td>0.0</td>\n",
       "      <td>0.0</td>\n",
       "      <td>0.0</td>\n",
       "      <td>0.0</td>\n",
       "      <td>0.0</td>\n",
       "      <td>0.0</td>\n",
       "      <td>0.0</td>\n",
       "      <td>0.0</td>\n",
       "      <td>0.0</td>\n",
       "      <td>0.0</td>\n",
       "      <td>...</td>\n",
       "      <td>0.0</td>\n",
       "      <td>0.00000</td>\n",
       "      <td>0.0</td>\n",
       "      <td>0.0</td>\n",
       "      <td>0.0</td>\n",
       "      <td>0.0</td>\n",
       "      <td>0.0</td>\n",
       "      <td>0.0</td>\n",
       "      <td>0.0</td>\n",
       "      <td>0.0</td>\n",
       "    </tr>\n",
       "    <tr>\n",
       "      <th>1</th>\n",
       "      <td>0.0</td>\n",
       "      <td>0.0</td>\n",
       "      <td>0.0</td>\n",
       "      <td>0.0</td>\n",
       "      <td>0.0</td>\n",
       "      <td>0.0</td>\n",
       "      <td>0.0</td>\n",
       "      <td>0.0</td>\n",
       "      <td>0.0</td>\n",
       "      <td>0.0</td>\n",
       "      <td>...</td>\n",
       "      <td>0.0</td>\n",
       "      <td>0.00000</td>\n",
       "      <td>0.0</td>\n",
       "      <td>0.0</td>\n",
       "      <td>0.0</td>\n",
       "      <td>0.0</td>\n",
       "      <td>0.0</td>\n",
       "      <td>0.0</td>\n",
       "      <td>0.0</td>\n",
       "      <td>0.0</td>\n",
       "    </tr>\n",
       "    <tr>\n",
       "      <th>2</th>\n",
       "      <td>0.0</td>\n",
       "      <td>0.0</td>\n",
       "      <td>0.0</td>\n",
       "      <td>0.0</td>\n",
       "      <td>0.0</td>\n",
       "      <td>0.0</td>\n",
       "      <td>0.0</td>\n",
       "      <td>0.0</td>\n",
       "      <td>0.0</td>\n",
       "      <td>0.0</td>\n",
       "      <td>...</td>\n",
       "      <td>0.0</td>\n",
       "      <td>0.00000</td>\n",
       "      <td>0.0</td>\n",
       "      <td>0.0</td>\n",
       "      <td>0.0</td>\n",
       "      <td>0.0</td>\n",
       "      <td>0.0</td>\n",
       "      <td>0.0</td>\n",
       "      <td>0.0</td>\n",
       "      <td>0.0</td>\n",
       "    </tr>\n",
       "    <tr>\n",
       "      <th>3</th>\n",
       "      <td>0.0</td>\n",
       "      <td>0.0</td>\n",
       "      <td>0.0</td>\n",
       "      <td>0.0</td>\n",
       "      <td>0.0</td>\n",
       "      <td>0.0</td>\n",
       "      <td>0.0</td>\n",
       "      <td>0.0</td>\n",
       "      <td>0.0</td>\n",
       "      <td>0.0</td>\n",
       "      <td>...</td>\n",
       "      <td>0.0</td>\n",
       "      <td>0.00000</td>\n",
       "      <td>0.0</td>\n",
       "      <td>0.0</td>\n",
       "      <td>0.0</td>\n",
       "      <td>0.0</td>\n",
       "      <td>0.0</td>\n",
       "      <td>0.0</td>\n",
       "      <td>0.0</td>\n",
       "      <td>0.0</td>\n",
       "    </tr>\n",
       "    <tr>\n",
       "      <th>4</th>\n",
       "      <td>0.0</td>\n",
       "      <td>0.0</td>\n",
       "      <td>0.0</td>\n",
       "      <td>0.0</td>\n",
       "      <td>0.0</td>\n",
       "      <td>0.0</td>\n",
       "      <td>0.0</td>\n",
       "      <td>0.0</td>\n",
       "      <td>0.0</td>\n",
       "      <td>0.0</td>\n",
       "      <td>...</td>\n",
       "      <td>0.0</td>\n",
       "      <td>0.00000</td>\n",
       "      <td>0.0</td>\n",
       "      <td>0.0</td>\n",
       "      <td>0.0</td>\n",
       "      <td>0.0</td>\n",
       "      <td>0.0</td>\n",
       "      <td>0.0</td>\n",
       "      <td>0.0</td>\n",
       "      <td>0.0</td>\n",
       "    </tr>\n",
       "    <tr>\n",
       "      <th>...</th>\n",
       "      <td>...</td>\n",
       "      <td>...</td>\n",
       "      <td>...</td>\n",
       "      <td>...</td>\n",
       "      <td>...</td>\n",
       "      <td>...</td>\n",
       "      <td>...</td>\n",
       "      <td>...</td>\n",
       "      <td>...</td>\n",
       "      <td>...</td>\n",
       "      <td>...</td>\n",
       "      <td>...</td>\n",
       "      <td>...</td>\n",
       "      <td>...</td>\n",
       "      <td>...</td>\n",
       "      <td>...</td>\n",
       "      <td>...</td>\n",
       "      <td>...</td>\n",
       "      <td>...</td>\n",
       "      <td>...</td>\n",
       "      <td>...</td>\n",
       "    </tr>\n",
       "    <tr>\n",
       "      <th>39995</th>\n",
       "      <td>0.0</td>\n",
       "      <td>0.0</td>\n",
       "      <td>0.0</td>\n",
       "      <td>0.0</td>\n",
       "      <td>0.0</td>\n",
       "      <td>0.0</td>\n",
       "      <td>0.0</td>\n",
       "      <td>0.0</td>\n",
       "      <td>0.0</td>\n",
       "      <td>0.0</td>\n",
       "      <td>...</td>\n",
       "      <td>0.0</td>\n",
       "      <td>0.00000</td>\n",
       "      <td>0.0</td>\n",
       "      <td>0.0</td>\n",
       "      <td>0.0</td>\n",
       "      <td>0.0</td>\n",
       "      <td>0.0</td>\n",
       "      <td>0.0</td>\n",
       "      <td>0.0</td>\n",
       "      <td>0.0</td>\n",
       "    </tr>\n",
       "    <tr>\n",
       "      <th>39996</th>\n",
       "      <td>0.0</td>\n",
       "      <td>0.0</td>\n",
       "      <td>0.0</td>\n",
       "      <td>0.0</td>\n",
       "      <td>0.0</td>\n",
       "      <td>0.0</td>\n",
       "      <td>0.0</td>\n",
       "      <td>0.0</td>\n",
       "      <td>0.0</td>\n",
       "      <td>0.0</td>\n",
       "      <td>...</td>\n",
       "      <td>0.0</td>\n",
       "      <td>0.00000</td>\n",
       "      <td>0.0</td>\n",
       "      <td>0.0</td>\n",
       "      <td>0.0</td>\n",
       "      <td>0.0</td>\n",
       "      <td>0.0</td>\n",
       "      <td>0.0</td>\n",
       "      <td>0.0</td>\n",
       "      <td>0.0</td>\n",
       "    </tr>\n",
       "    <tr>\n",
       "      <th>39997</th>\n",
       "      <td>0.0</td>\n",
       "      <td>0.0</td>\n",
       "      <td>0.0</td>\n",
       "      <td>0.0</td>\n",
       "      <td>0.0</td>\n",
       "      <td>0.0</td>\n",
       "      <td>0.0</td>\n",
       "      <td>0.0</td>\n",
       "      <td>0.0</td>\n",
       "      <td>0.0</td>\n",
       "      <td>...</td>\n",
       "      <td>0.0</td>\n",
       "      <td>0.00000</td>\n",
       "      <td>0.0</td>\n",
       "      <td>0.0</td>\n",
       "      <td>0.0</td>\n",
       "      <td>0.0</td>\n",
       "      <td>0.0</td>\n",
       "      <td>0.0</td>\n",
       "      <td>0.0</td>\n",
       "      <td>0.0</td>\n",
       "    </tr>\n",
       "    <tr>\n",
       "      <th>39998</th>\n",
       "      <td>0.0</td>\n",
       "      <td>0.0</td>\n",
       "      <td>0.0</td>\n",
       "      <td>0.0</td>\n",
       "      <td>0.0</td>\n",
       "      <td>0.0</td>\n",
       "      <td>0.0</td>\n",
       "      <td>0.0</td>\n",
       "      <td>0.0</td>\n",
       "      <td>0.0</td>\n",
       "      <td>...</td>\n",
       "      <td>0.0</td>\n",
       "      <td>0.17801</td>\n",
       "      <td>0.0</td>\n",
       "      <td>0.0</td>\n",
       "      <td>0.0</td>\n",
       "      <td>0.0</td>\n",
       "      <td>0.0</td>\n",
       "      <td>0.0</td>\n",
       "      <td>0.0</td>\n",
       "      <td>0.0</td>\n",
       "    </tr>\n",
       "    <tr>\n",
       "      <th>39999</th>\n",
       "      <td>0.0</td>\n",
       "      <td>0.0</td>\n",
       "      <td>0.0</td>\n",
       "      <td>0.0</td>\n",
       "      <td>0.0</td>\n",
       "      <td>0.0</td>\n",
       "      <td>0.0</td>\n",
       "      <td>0.0</td>\n",
       "      <td>0.0</td>\n",
       "      <td>0.0</td>\n",
       "      <td>...</td>\n",
       "      <td>0.0</td>\n",
       "      <td>0.00000</td>\n",
       "      <td>0.0</td>\n",
       "      <td>0.0</td>\n",
       "      <td>0.0</td>\n",
       "      <td>0.0</td>\n",
       "      <td>0.0</td>\n",
       "      <td>0.0</td>\n",
       "      <td>0.0</td>\n",
       "      <td>0.0</td>\n",
       "    </tr>\n",
       "  </tbody>\n",
       "</table>\n",
       "<p>40000 rows × 17967 columns</p>\n",
       "</div>"
      ],
      "text/plain": [
       "       0      1      2      3      4      5      6      7      8      9      \\\n",
       "0        0.0    0.0    0.0    0.0    0.0    0.0    0.0    0.0    0.0    0.0   \n",
       "1        0.0    0.0    0.0    0.0    0.0    0.0    0.0    0.0    0.0    0.0   \n",
       "2        0.0    0.0    0.0    0.0    0.0    0.0    0.0    0.0    0.0    0.0   \n",
       "3        0.0    0.0    0.0    0.0    0.0    0.0    0.0    0.0    0.0    0.0   \n",
       "4        0.0    0.0    0.0    0.0    0.0    0.0    0.0    0.0    0.0    0.0   \n",
       "...      ...    ...    ...    ...    ...    ...    ...    ...    ...    ...   \n",
       "39995    0.0    0.0    0.0    0.0    0.0    0.0    0.0    0.0    0.0    0.0   \n",
       "39996    0.0    0.0    0.0    0.0    0.0    0.0    0.0    0.0    0.0    0.0   \n",
       "39997    0.0    0.0    0.0    0.0    0.0    0.0    0.0    0.0    0.0    0.0   \n",
       "39998    0.0    0.0    0.0    0.0    0.0    0.0    0.0    0.0    0.0    0.0   \n",
       "39999    0.0    0.0    0.0    0.0    0.0    0.0    0.0    0.0    0.0    0.0   \n",
       "\n",
       "       ...  17957    17958  17959  17960  17961  17962  17963  17964  17965  \\\n",
       "0      ...    0.0  0.00000    0.0    0.0    0.0    0.0    0.0    0.0    0.0   \n",
       "1      ...    0.0  0.00000    0.0    0.0    0.0    0.0    0.0    0.0    0.0   \n",
       "2      ...    0.0  0.00000    0.0    0.0    0.0    0.0    0.0    0.0    0.0   \n",
       "3      ...    0.0  0.00000    0.0    0.0    0.0    0.0    0.0    0.0    0.0   \n",
       "4      ...    0.0  0.00000    0.0    0.0    0.0    0.0    0.0    0.0    0.0   \n",
       "...    ...    ...      ...    ...    ...    ...    ...    ...    ...    ...   \n",
       "39995  ...    0.0  0.00000    0.0    0.0    0.0    0.0    0.0    0.0    0.0   \n",
       "39996  ...    0.0  0.00000    0.0    0.0    0.0    0.0    0.0    0.0    0.0   \n",
       "39997  ...    0.0  0.00000    0.0    0.0    0.0    0.0    0.0    0.0    0.0   \n",
       "39998  ...    0.0  0.17801    0.0    0.0    0.0    0.0    0.0    0.0    0.0   \n",
       "39999  ...    0.0  0.00000    0.0    0.0    0.0    0.0    0.0    0.0    0.0   \n",
       "\n",
       "       17966  \n",
       "0        0.0  \n",
       "1        0.0  \n",
       "2        0.0  \n",
       "3        0.0  \n",
       "4        0.0  \n",
       "...      ...  \n",
       "39995    0.0  \n",
       "39996    0.0  \n",
       "39997    0.0  \n",
       "39998    0.0  \n",
       "39999    0.0  \n",
       "\n",
       "[40000 rows x 17967 columns]"
      ]
     },
     "execution_count": 41,
     "metadata": {},
     "output_type": "execute_result"
    }
   ],
   "source": [
    "pd.DataFrame.sparse.from_spmatrix(train_steps_tfidf)"
   ]
  },
  {
   "cell_type": "code",
   "execution_count": 42,
   "id": "dress-choice",
   "metadata": {},
   "outputs": [
    {
     "name": "stdout",
     "output_type": "stream",
     "text": [
      "[ 4597  7943  4286 14509  4603 13306 12072  9384  1944 11038   585   530\n",
      "  2739 14007   729   686  5317  3058  1962 10054  3283   584  9789   434\n",
      " 12083  5020  4442 13214 11218 11096]\n"
     ]
    }
   ],
   "source": [
    "print(top30)"
   ]
  },
  {
   "cell_type": "code",
   "execution_count": 44,
   "id": "adjusted-infection",
   "metadata": {},
   "outputs": [],
   "source": [
    "svc2 = LinearSVC().fit(train_steps_tfidf, y_train)"
   ]
  },
  {
   "cell_type": "code",
   "execution_count": 47,
   "id": "premium-extension",
   "metadata": {},
   "outputs": [
    {
     "ename": "ValueError",
     "evalue": "X has 2 features per sample; expecting 17967",
     "output_type": "error",
     "traceback": [
      "\u001b[1;31m---------------------------------------------------------------------------\u001b[0m",
      "\u001b[1;31mValueError\u001b[0m                                Traceback (most recent call last)",
      "\u001b[1;32m<ipython-input-47-d8fc43443dc0>\u001b[0m in \u001b[0;36m<module>\u001b[1;34m\u001b[0m\n\u001b[0;32m     13\u001b[0m xx2, yy2 = np.meshgrid(np.arange(x_min, x_max, .2),\n\u001b[0;32m     14\u001b[0m                      np.arange(y_min, y_max, .2))\n\u001b[1;32m---> 15\u001b[1;33m \u001b[0mZ\u001b[0m \u001b[1;33m=\u001b[0m \u001b[0msvc2\u001b[0m\u001b[1;33m.\u001b[0m\u001b[0mpredict\u001b[0m\u001b[1;33m(\u001b[0m\u001b[0mnp\u001b[0m\u001b[1;33m.\u001b[0m\u001b[0mc_\u001b[0m\u001b[1;33m[\u001b[0m\u001b[0mxx2\u001b[0m\u001b[1;33m.\u001b[0m\u001b[0mravel\u001b[0m\u001b[1;33m(\u001b[0m\u001b[1;33m)\u001b[0m\u001b[1;33m,\u001b[0m \u001b[0myy2\u001b[0m\u001b[1;33m.\u001b[0m\u001b[0mravel\u001b[0m\u001b[1;33m(\u001b[0m\u001b[1;33m)\u001b[0m\u001b[1;33m]\u001b[0m\u001b[1;33m)\u001b[0m\u001b[1;33m\u001b[0m\u001b[1;33m\u001b[0m\u001b[0m\n\u001b[0m\u001b[0;32m     16\u001b[0m \u001b[1;33m\u001b[0m\u001b[0m\n\u001b[0;32m     17\u001b[0m \u001b[0mZ\u001b[0m \u001b[1;33m=\u001b[0m \u001b[0mZ\u001b[0m\u001b[1;33m.\u001b[0m\u001b[0mreshape\u001b[0m\u001b[1;33m(\u001b[0m\u001b[0mxx2\u001b[0m\u001b[1;33m.\u001b[0m\u001b[0mshape\u001b[0m\u001b[1;33m)\u001b[0m\u001b[1;33m\u001b[0m\u001b[1;33m\u001b[0m\u001b[0m\n",
      "\u001b[1;32mc:\\users\\wenlileong\\appdata\\local\\programs\\python\\python39\\lib\\site-packages\\sklearn\\linear_model\\_base.py\u001b[0m in \u001b[0;36mpredict\u001b[1;34m(self, X)\u001b[0m\n\u001b[0;32m    307\u001b[0m             \u001b[0mPredicted\u001b[0m \u001b[1;32mclass\u001b[0m \u001b[0mlabel\u001b[0m \u001b[0mper\u001b[0m \u001b[0msample\u001b[0m\u001b[1;33m.\u001b[0m\u001b[1;33m\u001b[0m\u001b[1;33m\u001b[0m\u001b[0m\n\u001b[0;32m    308\u001b[0m         \"\"\"\n\u001b[1;32m--> 309\u001b[1;33m         \u001b[0mscores\u001b[0m \u001b[1;33m=\u001b[0m \u001b[0mself\u001b[0m\u001b[1;33m.\u001b[0m\u001b[0mdecision_function\u001b[0m\u001b[1;33m(\u001b[0m\u001b[0mX\u001b[0m\u001b[1;33m)\u001b[0m\u001b[1;33m\u001b[0m\u001b[1;33m\u001b[0m\u001b[0m\n\u001b[0m\u001b[0;32m    310\u001b[0m         \u001b[1;32mif\u001b[0m \u001b[0mlen\u001b[0m\u001b[1;33m(\u001b[0m\u001b[0mscores\u001b[0m\u001b[1;33m.\u001b[0m\u001b[0mshape\u001b[0m\u001b[1;33m)\u001b[0m \u001b[1;33m==\u001b[0m \u001b[1;36m1\u001b[0m\u001b[1;33m:\u001b[0m\u001b[1;33m\u001b[0m\u001b[1;33m\u001b[0m\u001b[0m\n\u001b[0;32m    311\u001b[0m             \u001b[0mindices\u001b[0m \u001b[1;33m=\u001b[0m \u001b[1;33m(\u001b[0m\u001b[0mscores\u001b[0m \u001b[1;33m>\u001b[0m \u001b[1;36m0\u001b[0m\u001b[1;33m)\u001b[0m\u001b[1;33m.\u001b[0m\u001b[0mastype\u001b[0m\u001b[1;33m(\u001b[0m\u001b[0mint\u001b[0m\u001b[1;33m)\u001b[0m\u001b[1;33m\u001b[0m\u001b[1;33m\u001b[0m\u001b[0m\n",
      "\u001b[1;32mc:\\users\\wenlileong\\appdata\\local\\programs\\python\\python39\\lib\\site-packages\\sklearn\\linear_model\\_base.py\u001b[0m in \u001b[0;36mdecision_function\u001b[1;34m(self, X)\u001b[0m\n\u001b[0;32m    286\u001b[0m         \u001b[0mn_features\u001b[0m \u001b[1;33m=\u001b[0m \u001b[0mself\u001b[0m\u001b[1;33m.\u001b[0m\u001b[0mcoef_\u001b[0m\u001b[1;33m.\u001b[0m\u001b[0mshape\u001b[0m\u001b[1;33m[\u001b[0m\u001b[1;36m1\u001b[0m\u001b[1;33m]\u001b[0m\u001b[1;33m\u001b[0m\u001b[1;33m\u001b[0m\u001b[0m\n\u001b[0;32m    287\u001b[0m         \u001b[1;32mif\u001b[0m \u001b[0mX\u001b[0m\u001b[1;33m.\u001b[0m\u001b[0mshape\u001b[0m\u001b[1;33m[\u001b[0m\u001b[1;36m1\u001b[0m\u001b[1;33m]\u001b[0m \u001b[1;33m!=\u001b[0m \u001b[0mn_features\u001b[0m\u001b[1;33m:\u001b[0m\u001b[1;33m\u001b[0m\u001b[1;33m\u001b[0m\u001b[0m\n\u001b[1;32m--> 288\u001b[1;33m             raise ValueError(\"X has %d features per sample; expecting %d\"\n\u001b[0m\u001b[0;32m    289\u001b[0m                              % (X.shape[1], n_features))\n\u001b[0;32m    290\u001b[0m \u001b[1;33m\u001b[0m\u001b[0m\n",
      "\u001b[1;31mValueError\u001b[0m: X has 2 features per sample; expecting 17967"
     ]
    },
    {
     "data": {
      "image/png": "[encoded data removed]",
      "text/plain": [
       "<Figure size 432x288 with 1 Axes>"
      ]
     },
     "metadata": {
      "needs_background": "light"
     },
     "output_type": "display_data"
    }
   ],
   "source": [
    "fig, ax = plt.subplots()\n",
    "#clf2 = svm.LinearSVC(C=1).fit(X, Y)\n",
    "\n",
    "# get the separating hyperplane\n",
    "w = svc2.coef_[0]\n",
    "a = -w[0] / w[1]\n",
    "xx = np.linspace(-5, 5)\n",
    "yy = a * xx - (svc2.intercept_[0]) / w[1]\n",
    "\n",
    "# create a mesh to plot in\n",
    "x_min, x_max = train_steps_tfidf[:, 4597].min() - 1, train_steps_tfidf[:, 4597].max() + 1\n",
    "y_min, y_max = train_steps_tfidf[:, 7943].min() - 1, train_steps_tfidf[:, 7943].max() + 1\n",
    "xx2, yy2 = np.meshgrid(np.arange(x_min, x_max, .2),\n",
    "                     np.arange(y_min, y_max, .2))\n",
    "Z = svc2.predict(np.c_[xx2.ravel(), yy2.ravel()])\n",
    "\n",
    "Z = Z.reshape(xx2.shape)\n",
    "ax.contourf(xx2, yy2, Z, cmap=plt.cm.coolwarm, alpha=0.3)\n",
    "ax.scatter(train_steps_tfidf[:, 4597], train_steps_tfidf[:, 7943], c=Y, cmap=plt.cm.coolwarm, s=25)\n",
    "ax.plot(xx,yy)\n",
    "\n",
    "ax.axis([x_min, x_max,y_min, y_max])\n",
    "plt.show()"
   ]
  },
  {
   "cell_type": "code",
   "execution_count": null,
   "id": "realistic-addition",
   "metadata": {},
   "outputs": [],
   "source": []
  }
 ],
 "metadata": {
  "kernelspec": {
   "display_name": "Python 3",
   "language": "python",
   "name": "python3"
  },
  "language_info": {
   "codemirror_mode": {
    "name": "ipython",
    "version": 3
   },
   "file_extension": ".py",
   "mimetype": "text/x-python",
   "name": "python",
   "nbconvert_exporter": "python",
   "pygments_lexer": "ipython3",
   "version": "3.9.1"
  }
 },
 "nbformat": 4,
 "nbformat_minor": 5
}
